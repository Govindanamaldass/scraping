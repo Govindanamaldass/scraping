{
 "cells": [
  {
   "cell_type": "code",
   "execution_count": 2,
   "metadata": {},
   "outputs": [
    {
     "name": "stdout",
     "output_type": "stream",
     "text": [
      "Requirement already satisfied: selenium in c:\\users\\admin\\appdata\\local\\programs\\python\\python313\\lib\\site-packages (4.27.1)\n",
      "Requirement already satisfied: urllib3<3,>=1.26 in c:\\users\\admin\\appdata\\local\\programs\\python\\python313\\lib\\site-packages (from urllib3[socks]<3,>=1.26->selenium) (2.2.3)\n",
      "Requirement already satisfied: trio~=0.17 in c:\\users\\admin\\appdata\\local\\programs\\python\\python313\\lib\\site-packages (from selenium) (0.28.0)\n",
      "Requirement already satisfied: trio-websocket~=0.9 in c:\\users\\admin\\appdata\\local\\programs\\python\\python313\\lib\\site-packages (from selenium) (0.11.1)\n",
      "Requirement already satisfied: certifi>=2021.10.8 in c:\\users\\admin\\appdata\\local\\programs\\python\\python313\\lib\\site-packages (from selenium) (2024.8.30)\n",
      "Requirement already satisfied: typing_extensions~=4.9 in c:\\users\\admin\\appdata\\local\\programs\\python\\python313\\lib\\site-packages (from selenium) (4.12.2)\n",
      "Requirement already satisfied: websocket-client~=1.8 in c:\\users\\admin\\appdata\\local\\programs\\python\\python313\\lib\\site-packages (from selenium) (1.8.0)\n",
      "Requirement already satisfied: attrs>=23.2.0 in c:\\users\\admin\\appdata\\local\\programs\\python\\python313\\lib\\site-packages (from trio~=0.17->selenium) (24.2.0)\n",
      "Requirement already satisfied: sortedcontainers in c:\\users\\admin\\appdata\\local\\programs\\python\\python313\\lib\\site-packages (from trio~=0.17->selenium) (2.4.0)\n",
      "Requirement already satisfied: idna in c:\\users\\admin\\appdata\\local\\programs\\python\\python313\\lib\\site-packages (from trio~=0.17->selenium) (3.10)\n",
      "Requirement already satisfied: outcome in c:\\users\\admin\\appdata\\local\\programs\\python\\python313\\lib\\site-packages (from trio~=0.17->selenium) (1.3.0.post0)\n",
      "Requirement already satisfied: sniffio>=1.3.0 in c:\\users\\admin\\appdata\\local\\programs\\python\\python313\\lib\\site-packages (from trio~=0.17->selenium) (1.3.1)\n",
      "Requirement already satisfied: cffi>=1.14 in c:\\users\\admin\\appdata\\local\\programs\\python\\python313\\lib\\site-packages (from trio~=0.17->selenium) (1.17.1)\n",
      "Requirement already satisfied: wsproto>=0.14 in c:\\users\\admin\\appdata\\local\\programs\\python\\python313\\lib\\site-packages (from trio-websocket~=0.9->selenium) (1.2.0)\n",
      "Requirement already satisfied: pysocks!=1.5.7,<2.0,>=1.5.6 in c:\\users\\admin\\appdata\\local\\programs\\python\\python313\\lib\\site-packages (from urllib3[socks]<3,>=1.26->selenium) (1.7.1)\n",
      "Requirement already satisfied: pycparser in c:\\users\\admin\\appdata\\local\\programs\\python\\python313\\lib\\site-packages (from cffi>=1.14->trio~=0.17->selenium) (2.22)\n",
      "Requirement already satisfied: h11<1,>=0.9.0 in c:\\users\\admin\\appdata\\local\\programs\\python\\python313\\lib\\site-packages (from wsproto>=0.14->trio-websocket~=0.9->selenium) (0.14.0)\n"
     ]
    }
   ],
   "source": [
    "!pip install selenium"
   ]
  },
  {
   "cell_type": "code",
   "execution_count": 1,
   "metadata": {},
   "outputs": [],
   "source": [
    "from selenium import webdriver\n",
    "from selenium.webdriver.common.by import By\n",
    "import time\n",
    "\n",
    "driver = webdriver.Chrome()\n",
    "driver.get('https://www.google.com/');\n",
    "\n",
    "time.sleep(2)\n",
    "\n",
    "#searchbox=driver.find_element(By.CLASS_NAME,'gLFyf')\n",
    "searchbox=driver.find_element(By.NAME,'q')\n",
    "searchbox.send_keys('redbus')\n",
    "searchbox.submit()\n",
    "\n",
    "\n",
    "\n",
    "\n",
    "\n"
   ]
  },
  {
   "cell_type": "code",
   "execution_count": 55,
   "metadata": {},
   "outputs": [],
   "source": [
    "#KSRTC\n",
    "\n",
    "from selenium import webdriver\n",
    "from selenium.webdriver.common.by import By\n",
    "from selenium.webdriver.common.keys import Keys\n",
    "\n",
    "import time\n",
    "\n",
    "driver = webdriver.Chrome()\n",
    "driver.get('https://www.redbus.in/');\n",
    "\n",
    "driver.maximize_window()\n",
    "time.sleep(5)\n",
    "\n",
    "scrolling=True\n",
    "\n",
    "while scrolling:\n",
    " Bus_route_source=driver.page_source\n",
    " body=driver.find_element(By.TAG_NAME,\"body\")\n",
    "\n",
    " body.send_keys(Keys.PAGE_DOWN)\n",
    " time.sleep(2)\n",
    "\n",
    " new_page_source=driver.page_source\n",
    "\n",
    " if new_page_source == Bus_route_source:\n",
    "   scrolling=False\n",
    "\n",
    "\n",
    "\n",
    "\n",
    "Bus_route=driver.find_elements(By.CLASS_NAME,\"rtcName\")\n",
    "#imagedata= driver.find_elements(By.CSS_SELECTOR,\"img[class='spacing_noMargin__F5u9R']\")\n"
   ]
  },
  {
   "cell_type": "code",
   "execution_count": 56,
   "metadata": {},
   "outputs": [
    {
     "data": {
      "text/plain": [
       "[<selenium.webdriver.remote.webelement.WebElement (session=\"9c11c5ca614f69754fc2d4877739e957\", element=\"f.2E9087AB3A3395600EC4FBE120104AC4.d.79A764EDAD9BA24A1698BB19080211A1.e.57\")>,\n",
       " <selenium.webdriver.remote.webelement.WebElement (session=\"9c11c5ca614f69754fc2d4877739e957\", element=\"f.2E9087AB3A3395600EC4FBE120104AC4.d.79A764EDAD9BA24A1698BB19080211A1.e.58\")>,\n",
       " <selenium.webdriver.remote.webelement.WebElement (session=\"9c11c5ca614f69754fc2d4877739e957\", element=\"f.2E9087AB3A3395600EC4FBE120104AC4.d.79A764EDAD9BA24A1698BB19080211A1.e.59\")>,\n",
       " <selenium.webdriver.remote.webelement.WebElement (session=\"9c11c5ca614f69754fc2d4877739e957\", element=\"f.2E9087AB3A3395600EC4FBE120104AC4.d.79A764EDAD9BA24A1698BB19080211A1.e.60\")>,\n",
       " <selenium.webdriver.remote.webelement.WebElement (session=\"9c11c5ca614f69754fc2d4877739e957\", element=\"f.2E9087AB3A3395600EC4FBE120104AC4.d.79A764EDAD9BA24A1698BB19080211A1.e.61\")>,\n",
       " <selenium.webdriver.remote.webelement.WebElement (session=\"9c11c5ca614f69754fc2d4877739e957\", element=\"f.2E9087AB3A3395600EC4FBE120104AC4.d.79A764EDAD9BA24A1698BB19080211A1.e.62\")>,\n",
       " <selenium.webdriver.remote.webelement.WebElement (session=\"9c11c5ca614f69754fc2d4877739e957\", element=\"f.2E9087AB3A3395600EC4FBE120104AC4.d.79A764EDAD9BA24A1698BB19080211A1.e.63\")>,\n",
       " <selenium.webdriver.remote.webelement.WebElement (session=\"9c11c5ca614f69754fc2d4877739e957\", element=\"f.2E9087AB3A3395600EC4FBE120104AC4.d.79A764EDAD9BA24A1698BB19080211A1.e.64\")>,\n",
       " <selenium.webdriver.remote.webelement.WebElement (session=\"9c11c5ca614f69754fc2d4877739e957\", element=\"f.2E9087AB3A3395600EC4FBE120104AC4.d.79A764EDAD9BA24A1698BB19080211A1.e.65\")>,\n",
       " <selenium.webdriver.remote.webelement.WebElement (session=\"9c11c5ca614f69754fc2d4877739e957\", element=\"f.2E9087AB3A3395600EC4FBE120104AC4.d.79A764EDAD9BA24A1698BB19080211A1.e.66\")>,\n",
       " <selenium.webdriver.remote.webelement.WebElement (session=\"9c11c5ca614f69754fc2d4877739e957\", element=\"f.2E9087AB3A3395600EC4FBE120104AC4.d.79A764EDAD9BA24A1698BB19080211A1.e.67\")>,\n",
       " <selenium.webdriver.remote.webelement.WebElement (session=\"9c11c5ca614f69754fc2d4877739e957\", element=\"f.2E9087AB3A3395600EC4FBE120104AC4.d.79A764EDAD9BA24A1698BB19080211A1.e.68\")>,\n",
       " <selenium.webdriver.remote.webelement.WebElement (session=\"9c11c5ca614f69754fc2d4877739e957\", element=\"f.2E9087AB3A3395600EC4FBE120104AC4.d.79A764EDAD9BA24A1698BB19080211A1.e.69\")>,\n",
       " <selenium.webdriver.remote.webelement.WebElement (session=\"9c11c5ca614f69754fc2d4877739e957\", element=\"f.2E9087AB3A3395600EC4FBE120104AC4.d.79A764EDAD9BA24A1698BB19080211A1.e.70\")>,\n",
       " <selenium.webdriver.remote.webelement.WebElement (session=\"9c11c5ca614f69754fc2d4877739e957\", element=\"f.2E9087AB3A3395600EC4FBE120104AC4.d.79A764EDAD9BA24A1698BB19080211A1.e.71\")>,\n",
       " <selenium.webdriver.remote.webelement.WebElement (session=\"9c11c5ca614f69754fc2d4877739e957\", element=\"f.2E9087AB3A3395600EC4FBE120104AC4.d.79A764EDAD9BA24A1698BB19080211A1.e.72\")>,\n",
       " <selenium.webdriver.remote.webelement.WebElement (session=\"9c11c5ca614f69754fc2d4877739e957\", element=\"f.2E9087AB3A3395600EC4FBE120104AC4.d.79A764EDAD9BA24A1698BB19080211A1.e.73\")>]"
      ]
     },
     "execution_count": 56,
     "metadata": {},
     "output_type": "execute_result"
    }
   ],
   "source": [
    "Bus_route"
   ]
  },
  {
   "cell_type": "code",
   "execution_count": 57,
   "metadata": {},
   "outputs": [],
   "source": [
    "import pandas as pd\n",
    "Bus_route_list=[]\n",
    "for i in Bus_route:\n",
    "  Bus_route_list.append(i.text)\n",
    "\n",
    "Bus_routedf=pd.DataFrame(Bus_route_list)"
   ]
  },
  {
   "cell_type": "code",
   "execution_count": 58,
   "metadata": {},
   "outputs": [
    {
     "data": {
      "text/html": [
       "<div>\n",
       "<style scoped>\n",
       "    .dataframe tbody tr th:only-of-type {\n",
       "        vertical-align: middle;\n",
       "    }\n",
       "\n",
       "    .dataframe tbody tr th {\n",
       "        vertical-align: top;\n",
       "    }\n",
       "\n",
       "    .dataframe thead th {\n",
       "        text-align: right;\n",
       "    }\n",
       "</style>\n",
       "<table border=\"1\" class=\"dataframe\">\n",
       "  <thead>\n",
       "    <tr style=\"text-align: right;\">\n",
       "      <th></th>\n",
       "      <th>0</th>\n",
       "    </tr>\n",
       "  </thead>\n",
       "  <tbody>\n",
       "    <tr>\n",
       "      <th>0</th>\n",
       "      <td>APSRTC</td>\n",
       "    </tr>\n",
       "    <tr>\n",
       "      <th>1</th>\n",
       "      <td>KERALA RTC</td>\n",
       "    </tr>\n",
       "    <tr>\n",
       "      <th>2</th>\n",
       "      <td>TGSRTC</td>\n",
       "    </tr>\n",
       "    <tr>\n",
       "      <th>3</th>\n",
       "      <td>KTCL</td>\n",
       "    </tr>\n",
       "    <tr>\n",
       "      <th>4</th>\n",
       "      <td>RSRTC</td>\n",
       "    </tr>\n",
       "    <tr>\n",
       "      <th>5</th>\n",
       "      <td>SBSTC</td>\n",
       "    </tr>\n",
       "    <tr>\n",
       "      <th>6</th>\n",
       "      <td>HRTC</td>\n",
       "    </tr>\n",
       "    <tr>\n",
       "      <th>7</th>\n",
       "      <td>ASTC</td>\n",
       "    </tr>\n",
       "    <tr>\n",
       "      <th>8</th>\n",
       "      <td>UPSRTC</td>\n",
       "    </tr>\n",
       "    <tr>\n",
       "      <th>9</th>\n",
       "      <td>WBTC</td>\n",
       "    </tr>\n",
       "    <tr>\n",
       "      <th>10</th>\n",
       "      <td>CTU RTC</td>\n",
       "    </tr>\n",
       "    <tr>\n",
       "      <th>11</th>\n",
       "      <td>PEPSU</td>\n",
       "    </tr>\n",
       "    <tr>\n",
       "      <th>12</th>\n",
       "      <td>NBSTC</td>\n",
       "    </tr>\n",
       "    <tr>\n",
       "      <th>13</th>\n",
       "      <td>BSRTC</td>\n",
       "    </tr>\n",
       "    <tr>\n",
       "      <th>14</th>\n",
       "      <td>KAAC Transport</td>\n",
       "    </tr>\n",
       "    <tr>\n",
       "      <th>15</th>\n",
       "      <td>WBSTC</td>\n",
       "    </tr>\n",
       "    <tr>\n",
       "      <th>16</th>\n",
       "      <td>JKSRTC</td>\n",
       "    </tr>\n",
       "  </tbody>\n",
       "</table>\n",
       "</div>"
      ],
      "text/plain": [
       "                 0\n",
       "0           APSRTC\n",
       "1       KERALA RTC\n",
       "2           TGSRTC\n",
       "3             KTCL\n",
       "4            RSRTC\n",
       "5            SBSTC\n",
       "6             HRTC\n",
       "7             ASTC\n",
       "8           UPSRTC\n",
       "9             WBTC\n",
       "10         CTU RTC\n",
       "11           PEPSU\n",
       "12           NBSTC\n",
       "13           BSRTC\n",
       "14  KAAC Transport\n",
       "15           WBSTC\n",
       "16          JKSRTC"
      ]
     },
     "execution_count": 58,
     "metadata": {},
     "output_type": "execute_result"
    }
   ],
   "source": [
    "Bus_routedf"
   ]
  }
 ],
 "metadata": {
  "kernelspec": {
   "display_name": "Python 3",
   "language": "python",
   "name": "python3"
  },
  "language_info": {
   "codemirror_mode": {
    "name": "ipython",
    "version": 3
   },
   "file_extension": ".py",
   "mimetype": "text/x-python",
   "name": "python",
   "nbconvert_exporter": "python",
   "pygments_lexer": "ipython3",
   "version": "3.13.1"
  }
 },
 "nbformat": 4,
 "nbformat_minor": 2
}
